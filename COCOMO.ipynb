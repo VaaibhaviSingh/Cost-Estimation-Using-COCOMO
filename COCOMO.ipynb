{
 "cells": [
  {
   "cell_type": "markdown",
   "metadata": {},
   "source": [
    "# COCOMO"
   ]
  },
  {
   "cell_type": "code",
   "execution_count": 1,
   "metadata": {},
   "outputs": [],
   "source": [
    "import math\n",
    "import pandas as pd \n",
    "import numpy as np\n",
    "import matplotlib.pyplot as plt\n",
    "\n",
    "%matplotlib notebook"
   ]
  },
  {
   "cell_type": "code",
   "execution_count": 2,
   "metadata": {},
   "outputs": [
    {
     "data": {
      "text/html": [
       "<div>\n",
       "<style scoped>\n",
       "    .dataframe tbody tr th:only-of-type {\n",
       "        vertical-align: middle;\n",
       "    }\n",
       "\n",
       "    .dataframe tbody tr th {\n",
       "        vertical-align: top;\n",
       "    }\n",
       "\n",
       "    .dataframe thead th {\n",
       "        text-align: right;\n",
       "    }\n",
       "</style>\n",
       "<table border=\"1\" class=\"dataframe\">\n",
       "  <thead>\n",
       "    <tr style=\"text-align: right;\">\n",
       "      <th></th>\n",
       "      <th>0</th>\n",
       "    </tr>\n",
       "  </thead>\n",
       "  <tbody>\n",
       "    <tr>\n",
       "      <th>0</th>\n",
       "      <td>36.010</td>\n",
       "    </tr>\n",
       "    <tr>\n",
       "      <th>1</th>\n",
       "      <td>48.813</td>\n",
       "    </tr>\n",
       "    <tr>\n",
       "      <th>2</th>\n",
       "      <td>49.231</td>\n",
       "    </tr>\n",
       "    <tr>\n",
       "      <th>3</th>\n",
       "      <td>33.992</td>\n",
       "    </tr>\n",
       "    <tr>\n",
       "      <th>4</th>\n",
       "      <td>32.966</td>\n",
       "    </tr>\n",
       "    <tr>\n",
       "      <th>5</th>\n",
       "      <td>40.588</td>\n",
       "    </tr>\n",
       "    <tr>\n",
       "      <th>6</th>\n",
       "      <td>44.483</td>\n",
       "    </tr>\n",
       "    <tr>\n",
       "      <th>7</th>\n",
       "      <td>35.926</td>\n",
       "    </tr>\n",
       "    <tr>\n",
       "      <th>8</th>\n",
       "      <td>32.851</td>\n",
       "    </tr>\n",
       "    <tr>\n",
       "      <th>9</th>\n",
       "      <td>48.284</td>\n",
       "    </tr>\n",
       "  </tbody>\n",
       "</table>\n",
       "</div>"
      ],
      "text/plain": [
       "        0\n",
       "0  36.010\n",
       "1  48.813\n",
       "2  49.231\n",
       "3  33.992\n",
       "4  32.966\n",
       "5  40.588\n",
       "6  44.483\n",
       "7  35.926\n",
       "8  32.851\n",
       "9  48.284"
      ]
     },
     "execution_count": 2,
     "metadata": {},
     "output_type": "execute_result"
    }
   ],
   "source": [
    "# LOC : (30,000 - 50,000)\n",
    "LOC = pd.DataFrame(np.random.randint(low=30000, high=50000, size=10))\n",
    "KLOC = LOC / 1000\n",
    "KLOC"
   ]
  },
  {
   "cell_type": "code",
   "execution_count": 3,
   "metadata": {},
   "outputs": [],
   "source": [
    "a_organic = 3.2\n",
    "b_organic = 1.05\n",
    "a_semidetached = 3.0\n",
    "b_semidetached = 1.12\n",
    "a_embedded = 2.8\n",
    "b_embedded = 1.20"
   ]
  },
  {
   "cell_type": "code",
   "execution_count": 4,
   "metadata": {},
   "outputs": [
    {
     "data": {
      "text/plain": [
       "[137.84602775504902,\n",
       " 189.71962305763157,\n",
       " 191.4258431345611,\n",
       " 129.74646445315904,\n",
       " 125.63757502187308,\n",
       " 156.30307157775025,\n",
       " 172.08925354842788,\n",
       " 137.5084184769931,\n",
       " 125.17742175293859,\n",
       " 187.5613636721513]"
      ]
     },
     "execution_count": 4,
     "metadata": {},
     "output_type": "execute_result"
    }
   ],
   "source": [
    "E_organic = []\n",
    "for i in range(0, len(KLOC.index)):\n",
    "    E_organic.append(a_organic * math.pow(KLOC.iloc[i], b_organic))\n",
    "E_organic"
   ]
  },
  {
   "cell_type": "code",
   "execution_count": 5,
   "metadata": {},
   "outputs": [
    {
     "data": {
      "text/plain": [
       "[166.07916423284684,\n",
       " 233.4968437746253,\n",
       " 235.73743351650975,\n",
       " 155.6908820044922,\n",
       " 150.4372755039536,\n",
       " 189.90072580616146,\n",
       " 210.42561834043434,\n",
       " 165.64532531536307,\n",
       " 149.84963183056215,\n",
       " 230.6645661559249]"
      ]
     },
     "execution_count": 5,
     "metadata": {},
     "output_type": "execute_result"
    }
   ],
   "source": [
    "E_semidetached = []\n",
    "for i in range(0, len(KLOC.index)):\n",
    "    E_semidetached.append(a_semidetached * math.pow(KLOC.iloc[i], b_semidetached))\n",
    "E_semidetached"
   ]
  },
  {
   "cell_type": "code",
   "execution_count": 6,
   "metadata": {},
   "outputs": [
    {
     "data": {
      "text/plain": [
       "[206.47419282417698,\n",
       " 297.4408620413736,\n",
       " 300.49996119443296,\n",
       " 192.6682235259567,\n",
       " 185.7109606333659,\n",
       " 238.3610080271873,\n",
       " 266.06693956818486,\n",
       " 205.89636053622712,\n",
       " 184.93382164114325,\n",
       " 293.57692742503997]"
      ]
     },
     "execution_count": 6,
     "metadata": {},
     "output_type": "execute_result"
    }
   ],
   "source": [
    "E_embedded = []\n",
    "for i in range(0, len(KLOC.index)):\n",
    "    E_embedded.append(a_embedded * math.pow(KLOC.iloc[i], b_embedded))\n",
    "E_embedded"
   ]
  },
  {
   "cell_type": "code",
   "execution_count": 7,
   "metadata": {},
   "outputs": [
    {
     "data": {
      "image/png": "[encoded data removed]",
      "text/plain": [
       "<Figure size 432x288 with 1 Axes>"
      ]
     },
     "metadata": {},
     "output_type": "display_data"
    }
   ],
   "source": [
    "plt.figure()\n",
    "\n",
    "plt.plot(KLOC, E_organic, '-s', label = \"E_organic\")\n",
    "plt.title('Organic')\n",
    "plt.xlabel('KLOC')\n",
    "plt.ylabel('Effort Estimated')\n",
    " \n",
    "plt.legend(frameon=False)\n",
    "[plt.gca().spines[loc].set_visible(False) for loc in ['top', 'right']]\n",
    "\n",
    "plt.show()"
   ]
  },
  {
   "cell_type": "code",
   "execution_count": 8,
   "metadata": {},
   "outputs": [
    {
     "data": {
      "image/png": "[encoded data removed]",
      "text/plain": [
       "<Figure size 432x288 with 1 Axes>"
      ]
     },
     "metadata": {},
     "output_type": "display_data"
    }
   ],
   "source": [
    "plt.figure()\n",
    "\n",
    "plt.plot(KLOC, E_semidetached, '-*', label = \"Semidetached\")\n",
    "plt.title('Semidetached')\n",
    "plt.xlabel('KLOC')\n",
    "plt.ylabel('Effort Estimated')\n",
    " \n",
    "plt.legend(frameon=False)\n",
    "[plt.gca().spines[loc].set_visible(False) for loc in ['top', 'right']]\n",
    "\n",
    "plt.show()"
   ]
  },
  {
   "cell_type": "code",
   "execution_count": 9,
   "metadata": {},
   "outputs": [
    {
     "data": {
      "image/png": "[encoded data removed]",
      "text/plain": [
       "<Figure size 432x288 with 1 Axes>"
      ]
     },
     "metadata": {},
     "output_type": "display_data"
    }
   ],
   "source": [
    "plt.figure()\n",
    "\n",
    "plt.plot(KLOC, E_embedded, '-o', label = \"Embedded\")\n",
    "plt.title('Embedded')\n",
    "plt.xlabel('KLOC')\n",
    "plt.ylabel('Effort Estimated')\n",
    " \n",
    "plt.legend(frameon=False)\n",
    "[plt.gca().spines[loc].set_visible(False) for loc in ['top', 'right']]\n",
    "\n",
    "plt.show()"
   ]
  },
  {
   "cell_type": "code",
   "execution_count": 10,
   "metadata": {},
   "outputs": [
    {
     "data": {
      "image/png": "[encoded data removed]",
      "text/plain": [
       "<Figure size 432x288 with 1 Axes>"
      ]
     },
     "metadata": {},
     "output_type": "display_data"
    }
   ],
   "source": [
    "plt.figure()\n",
    "\n",
    "plt.plot(KLOC, E_organic, '-s', label = \"Organic\")\n",
    "plt.plot(KLOC, E_semidetached, '-*', label = \"Semidetached\")\n",
    "plt.plot(KLOC, E_embedded, '-o', label = \"Embedded\")\n",
    "\n",
    "plt.title('Organic, Semidetached, Embedded')\n",
    "plt.xlabel('KLOC')\n",
    "plt.ylabel('Effort Estimated')\n",
    " \n",
    "plt.legend(frameon=False)\n",
    "[plt.gca().spines[loc].set_visible(False) for loc in ['top', 'right']]\n",
    "\n",
    "plt.show()"
   ]
  },
  {
   "cell_type": "code",
   "execution_count": 11,
   "metadata": {},
   "outputs": [],
   "source": [
    "Organic_assumed38 = a_organic * math.pow(38, b_organic) \n",
    "Semidetached_assumed38 = a_semidetached * math.pow(38, b_semidetached) \n",
    "Embedded_assumed38 = a_embedded * math.pow(38, b_embedded)\n",
    "\n",
    "Organic_assumed45 = a_organic * math.pow(45, b_organic)  \n",
    "Semidetached_assumed45 = a_semidetached * math.pow(45, b_semidetached) \n",
    "Embedded_assumed45 = a_embedded * math.pow(45, b_embedded)\n",
    "\n",
    "Organic_assumed41 =  a_organic * math.pow(41, b_organic) \n",
    "Semidetached_assumed41 = a_semidetached * math.pow(41, b_semidetached)\n",
    "Embedded_assumed41 =  a_embedded * math.pow(41, b_embedded)\n",
    "\n",
    "\n",
    "# First Question\n",
    "E_actual1 = a_embedded * math.pow(38, b_embedded)\n",
    "Error11 = ((E_actual1 - Organic_assumed38)/Organic_assumed38) * 100\n",
    "Error12 = ((E_actual1 - Semidetached_assumed38)/Semidetached_assumed38) * 100\n",
    "Error13 = ((E_actual1 - Embedded_assumed38)/Embedded_assumed38) * 100\n",
    "\n",
    "# Second Question\n",
    "E_actual2 = a_organic * math.pow(45, b_organic)\n",
    "Error21 = ((E_actual2 - Organic_assumed45)/Organic_assumed45) * 100\n",
    "Error22 = ((E_actual2 - Semidetached_assumed45)/Semidetached_assumed45) * 100\n",
    "Error23 = ((E_actual2 - Embedded_assumed45)/Embedded_assumed45) * 100\n",
    "\n",
    "# Third Question\n",
    "E_actual3 = a_semidetached * math.pow(41, b_semidetached)\n",
    "Error31 = ((E_actual3 - Organic_assumed41)/Organic_assumed41) * 100\n",
    "Error32 = ((E_actual3 - Semidetached_assumed41)/Semidetached_assumed41) * 100\n",
    "Error33 = ((E_actual3 - Embedded_assumed41)/Embedded_assumed41) * 100"
   ]
  },
  {
   "cell_type": "code",
   "execution_count": 12,
   "metadata": {},
   "outputs": [
    {
     "name": "stdout",
     "output_type": "stream",
     "text": [
      "Error_organic_1:  50.9995289573826 %\n",
      "Error_semidetached_1:  24.85888845698382 %\n",
      "Error_embedded_1:  0.0 %\n",
      " \n",
      "Error_organic_2:  0.0 %\n",
      "Error_semidetached_2:  -18.284611910297063 %\n",
      "Error_embedded_2:  -35.43308001183267 %\n",
      " \n",
      "Error_organic_3:  21.581121848060008 %\n",
      "Error_semidetached_3:  0.0 %\n",
      "Error_embedded_3:  -20.394969177675904 %\n"
     ]
    }
   ],
   "source": [
    "print('Error_organic_1:  ' + str(Error11) + ' %')\n",
    "print('Error_semidetached_1:  ' + str(Error12) + ' %')\n",
    "print('Error_embedded_1:  ' + str(Error13) + ' %')\n",
    "print(' ')\n",
    "print('Error_organic_2:  ' + str(Error21) + ' %')\n",
    "print('Error_semidetached_2:  ' + str(Error22) + ' %')\n",
    "print('Error_embedded_2:  ' + str(Error23) + ' %')\n",
    "print(' ')\n",
    "print('Error_organic_3:  ' + str(Error31) + ' %')\n",
    "print('Error_semidetached_3:  ' + str(Error32) + ' %')\n",
    "print('Error_embedded_3:  ' + str(Error33) + ' %')"
   ]
  },
  {
   "cell_type": "code",
   "execution_count": 13,
   "metadata": {},
   "outputs": [
    {
     "data": {
      "text/plain": [
       "[59.77325813526514,\n",
       " 16.087669901906015,\n",
       " 15.052955310463068,\n",
       " 69.74727649229699,\n",
       " 75.29874300418523,\n",
       " 40.90643743026419,\n",
       " 27.980733958094223,\n",
       " 60.16553182242642,\n",
       " 75.9431426770966,\n",
       " 17.423485009020883]"
      ]
     },
     "execution_count": 13,
     "metadata": {},
     "output_type": "execute_result"
    }
   ],
   "source": [
    "Effort_organic1 = []\n",
    "for i in range(0, len(KLOC.index)):\n",
    "    Effort_organic1.append(((E_actual1 - E_organic[i])/ E_organic[i]) * 100)\n",
    "Effort_organic1"
   ]
  },
  {
   "cell_type": "code",
   "execution_count": 14,
   "metadata": {},
   "outputs": [
    {
     "data": {
      "text/plain": [
       "[32.612113489143404,\n",
       " -5.677059186776948,\n",
       " -6.573560902511806,\n",
       " 41.4604933305786,\n",
       " 46.400610497958404,\n",
       " 15.976960498345727,\n",
       " 4.664580050310003,\n",
       " 32.959435670749386,\n",
       " 46.97472864218614,\n",
       " -4.5188893011833935]"
      ]
     },
     "execution_count": 14,
     "metadata": {},
     "output_type": "execute_result"
    }
   ],
   "source": [
    "Effort_semidetached1 = []\n",
    "for i in range(0, len(KLOC.index)):\n",
    "    Effort_semidetached1.append(((E_actual1 - E_semidetached[i])/ E_semidetached[i]) * 100)\n",
    "Effort_semidetached1"
   ]
  },
  {
   "cell_type": "code",
   "execution_count": 15,
   "metadata": {},
   "outputs": [
    {
     "data": {
      "text/plain": [
       "[6.6676114539069395,\n",
       " -25.954662636887964,\n",
       " -26.70844652396452,\n",
       " 14.311060601341103,\n",
       " 18.593479352620363,\n",
       " -7.601880199649451,\n",
       " -17.2234287688183,\n",
       " 6.9669658952192375,\n",
       " 19.091839340049333,\n",
       " -24.980109409136507]"
      ]
     },
     "execution_count": 15,
     "metadata": {},
     "output_type": "execute_result"
    }
   ],
   "source": [
    "Effort_embedded1 = []\n",
    "for i in range(0, len(KLOC.index)):\n",
    "    Effort_embedded1.append(((E_actual1 - E_embedded[i])/ E_embedded[i]) * 100)\n",
    "Effort_embedded1"
   ]
  },
  {
   "cell_type": "code",
   "execution_count": 16,
   "metadata": {},
   "outputs": [
    {
     "data": {
      "text/plain": [
       "[26.36559948558205,\n",
       " -8.18558642886644,\n",
       " -9.003948219632898,\n",
       " 34.254108637091555,\n",
       " 38.644795802054944,\n",
       " 11.443721215089331,\n",
       " 1.2207071319014542,\n",
       " 26.67585102716724,\n",
       " 39.154455252742366,\n",
       " -7.129082488328662]"
      ]
     },
     "execution_count": 16,
     "metadata": {},
     "output_type": "execute_result"
    }
   ],
   "source": [
    "Effort_organic2 = []\n",
    "for i in range(0, len(KLOC.index)):\n",
    "    Effort_organic2.append(((E_actual2 - E_organic[i])/ E_organic[i]) * 100)\n",
    "Effort_organic2"
   ]
  },
  {
   "cell_type": "code",
   "execution_count": 17,
   "metadata": {},
   "outputs": [
    {
     "data": {
      "text/plain": [
       "[4.883692150275488,\n",
       " -25.399437301233796,\n",
       " -26.10848572442348,\n",
       " 11.881927250372659,\n",
       " 15.789094661682885,\n",
       " -8.273147140295027,\n",
       " -17.220174656719525,\n",
       " 5.158391284570684,\n",
       " 16.243168042407632,\n",
       " -24.483434000010043]"
      ]
     },
     "execution_count": 17,
     "metadata": {},
     "output_type": "execute_result"
    }
   ],
   "source": [
    "Effort_semidetached2 = []\n",
    "for i in range(0, len(KLOC.index)):\n",
    "    Effort_semidetached2.append(((E_actual2 - E_semidetached[i])/ E_semidetached[i]) * 100)\n",
    "Effort_semidetached2"
   ]
  },
  {
   "cell_type": "code",
   "execution_count": 18,
   "metadata": {},
   "outputs": [
    {
     "data": {
      "text/plain": [
       "[-15.635965465155783,\n",
       " -41.43711185334718,\n",
       " -42.0332839154601,\n",
       " -9.590717061725416,\n",
       " -6.203727154468472,\n",
       " -26.92178943971343,\n",
       " -34.53152818518818,\n",
       " -15.399204295754865,\n",
       " -5.809571340747924,\n",
       " -40.666332035167834]"
      ]
     },
     "execution_count": 18,
     "metadata": {},
     "output_type": "execute_result"
    }
   ],
   "source": [
    "Effort_embedded2 = []\n",
    "for i in range(0, len(KLOC.index)):\n",
    "    Effort_embedded2.append(((E_actual2 - E_embedded[i])/ E_embedded[i]) * 100)\n",
    "Effort_embedded2"
   ]
  },
  {
   "cell_type": "code",
   "execution_count": 19,
   "metadata": {},
   "outputs": [
    {
     "data": {
      "text/plain": [
       "[39.33009027054597,\n",
       " 1.2341221272239455,\n",
       " 0.33180043013528404,\n",
       " 48.02792177416855,\n",
       " 52.869071909446276,\n",
       " 22.877300469386014,\n",
       " 11.605455276975507,\n",
       " 39.67217209876199,\n",
       " 53.431019920302006,\n",
       " 2.3990181907535724]"
      ]
     },
     "execution_count": 19,
     "metadata": {},
     "output_type": "execute_result"
    }
   ],
   "source": [
    "Effort_organic3 = []\n",
    "for i in range(0, len(KLOC.index)):\n",
    "    Effort_organic3.append(((E_actual3 - E_organic[i])/ E_organic[i]) * 100)\n",
    "Effort_organic3"
   ]
  },
  {
   "cell_type": "code",
   "execution_count": 20,
   "metadata": {},
   "outputs": [
    {
     "data": {
      "text/plain": [
       "[15.64424459422116,\n",
       " -17.74578542446944,\n",
       " -18.527578738562635,\n",
       " 23.360464294839083,\n",
       " 27.668487921016727,\n",
       " 1.1375781162180831,\n",
       " -8.727370545373288,\n",
       " 15.947126512515366,\n",
       " 28.16914700373686,\n",
       " -16.73580467680413]"
      ]
     },
     "execution_count": 20,
     "metadata": {},
     "output_type": "execute_result"
    }
   ],
   "source": [
    "Effort_semidetached3 = []\n",
    "for i in range(0, len(KLOC.index)):\n",
    "    Effort_semidetached3.append(((E_actual3 - E_semidetached[i])/ E_semidetached[i]) * 100)\n",
    "Effort_semidetached3"
   ]
  },
  {
   "cell_type": "code",
   "execution_count": 21,
   "metadata": {},
   "outputs": [
    {
     "data": {
      "text/plain": [
       "[-6.980629260034872,\n",
       " -35.42884673365549,\n",
       " -36.08618312559378,\n",
       " -0.3151680175237815,\n",
       " 3.419310443739577,\n",
       " -19.42432342643671,\n",
       " -27.81478404751137,\n",
       " -6.719577555777705,\n",
       " 3.853904710928649,\n",
       " -34.57898868618983]"
      ]
     },
     "execution_count": 21,
     "metadata": {},
     "output_type": "execute_result"
    }
   ],
   "source": [
    "Effort_embedded3 = []\n",
    "for i in range(0, len(KLOC.index)):\n",
    "    Effort_embedded3.append(((E_actual3 - E_embedded[i])/ E_embedded[i]) * 100)\n",
    "Effort_embedded3"
   ]
  },
  {
   "cell_type": "code",
   "execution_count": 22,
   "metadata": {},
   "outputs": [
    {
     "data": {
      "text/html": [
       "<div>\n",
       "<style scoped>\n",
       "    .dataframe tbody tr th:only-of-type {\n",
       "        vertical-align: middle;\n",
       "    }\n",
       "\n",
       "    .dataframe tbody tr th {\n",
       "        vertical-align: top;\n",
       "    }\n",
       "\n",
       "    .dataframe thead th {\n",
       "        text-align: right;\n",
       "    }\n",
       "</style>\n",
       "<table border=\"1\" class=\"dataframe\">\n",
       "  <thead>\n",
       "    <tr style=\"text-align: right;\">\n",
       "      <th></th>\n",
       "      <th>Organic</th>\n",
       "      <th>Semi-detached</th>\n",
       "      <th>Embedded</th>\n",
       "    </tr>\n",
       "    <tr>\n",
       "      <th>LOC</th>\n",
       "      <th></th>\n",
       "      <th></th>\n",
       "      <th></th>\n",
       "    </tr>\n",
       "  </thead>\n",
       "  <tbody>\n",
       "    <tr>\n",
       "      <th>36010</th>\n",
       "      <td>59.773258</td>\n",
       "      <td>32.612113</td>\n",
       "      <td>6.667611</td>\n",
       "    </tr>\n",
       "    <tr>\n",
       "      <th>48813</th>\n",
       "      <td>16.087670</td>\n",
       "      <td>-5.677059</td>\n",
       "      <td>-25.954663</td>\n",
       "    </tr>\n",
       "    <tr>\n",
       "      <th>49231</th>\n",
       "      <td>15.052955</td>\n",
       "      <td>-6.573561</td>\n",
       "      <td>-26.708447</td>\n",
       "    </tr>\n",
       "    <tr>\n",
       "      <th>33992</th>\n",
       "      <td>69.747276</td>\n",
       "      <td>41.460493</td>\n",
       "      <td>14.311061</td>\n",
       "    </tr>\n",
       "    <tr>\n",
       "      <th>32966</th>\n",
       "      <td>75.298743</td>\n",
       "      <td>46.400610</td>\n",
       "      <td>18.593479</td>\n",
       "    </tr>\n",
       "    <tr>\n",
       "      <th>40588</th>\n",
       "      <td>40.906437</td>\n",
       "      <td>15.976960</td>\n",
       "      <td>-7.601880</td>\n",
       "    </tr>\n",
       "    <tr>\n",
       "      <th>44483</th>\n",
       "      <td>27.980734</td>\n",
       "      <td>4.664580</td>\n",
       "      <td>-17.223429</td>\n",
       "    </tr>\n",
       "    <tr>\n",
       "      <th>35926</th>\n",
       "      <td>60.165532</td>\n",
       "      <td>32.959436</td>\n",
       "      <td>6.966966</td>\n",
       "    </tr>\n",
       "    <tr>\n",
       "      <th>32851</th>\n",
       "      <td>75.943143</td>\n",
       "      <td>46.974729</td>\n",
       "      <td>19.091839</td>\n",
       "    </tr>\n",
       "    <tr>\n",
       "      <th>48284</th>\n",
       "      <td>17.423485</td>\n",
       "      <td>-4.518889</td>\n",
       "      <td>-24.980109</td>\n",
       "    </tr>\n",
       "  </tbody>\n",
       "</table>\n",
       "</div>"
      ],
      "text/plain": [
       "         Organic  Semi-detached   Embedded\n",
       "LOC                                       \n",
       "36010  59.773258      32.612113   6.667611\n",
       "48813  16.087670      -5.677059 -25.954663\n",
       "49231  15.052955      -6.573561 -26.708447\n",
       "33992  69.747276      41.460493  14.311061\n",
       "32966  75.298743      46.400610  18.593479\n",
       "40588  40.906437      15.976960  -7.601880\n",
       "44483  27.980734       4.664580 -17.223429\n",
       "35926  60.165532      32.959436   6.966966\n",
       "32851  75.943143      46.974729  19.091839\n",
       "48284  17.423485      -4.518889 -24.980109"
      ]
     },
     "execution_count": 22,
     "metadata": {},
     "output_type": "execute_result"
    }
   ],
   "source": [
    "Error_per1 = pd.DataFrame({'Organic': Effort_organic1, 'Semi-detached': Effort_semidetached1, 'Embedded': Effort_embedded1})\n",
    "Error_per1['LOC'] = (LOC)\n",
    "Error_per1.set_index('LOC', inplace=True)\n",
    "Error_per1"
   ]
  },
  {
   "cell_type": "code",
   "execution_count": 23,
   "metadata": {},
   "outputs": [
    {
     "data": {
      "text/html": [
       "<div>\n",
       "<style scoped>\n",
       "    .dataframe tbody tr th:only-of-type {\n",
       "        vertical-align: middle;\n",
       "    }\n",
       "\n",
       "    .dataframe tbody tr th {\n",
       "        vertical-align: top;\n",
       "    }\n",
       "\n",
       "    .dataframe thead th {\n",
       "        text-align: right;\n",
       "    }\n",
       "</style>\n",
       "<table border=\"1\" class=\"dataframe\">\n",
       "  <thead>\n",
       "    <tr style=\"text-align: right;\">\n",
       "      <th></th>\n",
       "      <th>Organic</th>\n",
       "      <th>Semi-detached</th>\n",
       "      <th>Embedded</th>\n",
       "    </tr>\n",
       "    <tr>\n",
       "      <th>LOC</th>\n",
       "      <th></th>\n",
       "      <th></th>\n",
       "      <th></th>\n",
       "    </tr>\n",
       "  </thead>\n",
       "  <tbody>\n",
       "    <tr>\n",
       "      <th>36010</th>\n",
       "      <td>26.365599</td>\n",
       "      <td>4.883692</td>\n",
       "      <td>-15.635965</td>\n",
       "    </tr>\n",
       "    <tr>\n",
       "      <th>48813</th>\n",
       "      <td>-8.185586</td>\n",
       "      <td>-25.399437</td>\n",
       "      <td>-41.437112</td>\n",
       "    </tr>\n",
       "    <tr>\n",
       "      <th>49231</th>\n",
       "      <td>-9.003948</td>\n",
       "      <td>-26.108486</td>\n",
       "      <td>-42.033284</td>\n",
       "    </tr>\n",
       "    <tr>\n",
       "      <th>33992</th>\n",
       "      <td>34.254109</td>\n",
       "      <td>11.881927</td>\n",
       "      <td>-9.590717</td>\n",
       "    </tr>\n",
       "    <tr>\n",
       "      <th>32966</th>\n",
       "      <td>38.644796</td>\n",
       "      <td>15.789095</td>\n",
       "      <td>-6.203727</td>\n",
       "    </tr>\n",
       "    <tr>\n",
       "      <th>40588</th>\n",
       "      <td>11.443721</td>\n",
       "      <td>-8.273147</td>\n",
       "      <td>-26.921789</td>\n",
       "    </tr>\n",
       "    <tr>\n",
       "      <th>44483</th>\n",
       "      <td>1.220707</td>\n",
       "      <td>-17.220175</td>\n",
       "      <td>-34.531528</td>\n",
       "    </tr>\n",
       "    <tr>\n",
       "      <th>35926</th>\n",
       "      <td>26.675851</td>\n",
       "      <td>5.158391</td>\n",
       "      <td>-15.399204</td>\n",
       "    </tr>\n",
       "    <tr>\n",
       "      <th>32851</th>\n",
       "      <td>39.154455</td>\n",
       "      <td>16.243168</td>\n",
       "      <td>-5.809571</td>\n",
       "    </tr>\n",
       "    <tr>\n",
       "      <th>48284</th>\n",
       "      <td>-7.129082</td>\n",
       "      <td>-24.483434</td>\n",
       "      <td>-40.666332</td>\n",
       "    </tr>\n",
       "  </tbody>\n",
       "</table>\n",
       "</div>"
      ],
      "text/plain": [
       "         Organic  Semi-detached   Embedded\n",
       "LOC                                       \n",
       "36010  26.365599       4.883692 -15.635965\n",
       "48813  -8.185586     -25.399437 -41.437112\n",
       "49231  -9.003948     -26.108486 -42.033284\n",
       "33992  34.254109      11.881927  -9.590717\n",
       "32966  38.644796      15.789095  -6.203727\n",
       "40588  11.443721      -8.273147 -26.921789\n",
       "44483   1.220707     -17.220175 -34.531528\n",
       "35926  26.675851       5.158391 -15.399204\n",
       "32851  39.154455      16.243168  -5.809571\n",
       "48284  -7.129082     -24.483434 -40.666332"
      ]
     },
     "execution_count": 23,
     "metadata": {},
     "output_type": "execute_result"
    }
   ],
   "source": [
    "Error_per2 = pd.DataFrame({'Organic': Effort_organic2, 'Semi-detached': Effort_semidetached2, 'Embedded': Effort_embedded2})\n",
    "Error_per2['LOC'] = (LOC)\n",
    "Error_per2.set_index('LOC', inplace=True)\n",
    "Error_per2"
   ]
  },
  {
   "cell_type": "code",
   "execution_count": 24,
   "metadata": {},
   "outputs": [
    {
     "data": {
      "text/html": [
       "<div>\n",
       "<style scoped>\n",
       "    .dataframe tbody tr th:only-of-type {\n",
       "        vertical-align: middle;\n",
       "    }\n",
       "\n",
       "    .dataframe tbody tr th {\n",
       "        vertical-align: top;\n",
       "    }\n",
       "\n",
       "    .dataframe thead th {\n",
       "        text-align: right;\n",
       "    }\n",
       "</style>\n",
       "<table border=\"1\" class=\"dataframe\">\n",
       "  <thead>\n",
       "    <tr style=\"text-align: right;\">\n",
       "      <th></th>\n",
       "      <th>Organic</th>\n",
       "      <th>Semi-detached</th>\n",
       "      <th>Embedded</th>\n",
       "    </tr>\n",
       "    <tr>\n",
       "      <th>LOC</th>\n",
       "      <th></th>\n",
       "      <th></th>\n",
       "      <th></th>\n",
       "    </tr>\n",
       "  </thead>\n",
       "  <tbody>\n",
       "    <tr>\n",
       "      <th>36010</th>\n",
       "      <td>39.330090</td>\n",
       "      <td>15.644245</td>\n",
       "      <td>-6.980629</td>\n",
       "    </tr>\n",
       "    <tr>\n",
       "      <th>48813</th>\n",
       "      <td>1.234122</td>\n",
       "      <td>-17.745785</td>\n",
       "      <td>-35.428847</td>\n",
       "    </tr>\n",
       "    <tr>\n",
       "      <th>49231</th>\n",
       "      <td>0.331800</td>\n",
       "      <td>-18.527579</td>\n",
       "      <td>-36.086183</td>\n",
       "    </tr>\n",
       "    <tr>\n",
       "      <th>33992</th>\n",
       "      <td>48.027922</td>\n",
       "      <td>23.360464</td>\n",
       "      <td>-0.315168</td>\n",
       "    </tr>\n",
       "    <tr>\n",
       "      <th>32966</th>\n",
       "      <td>52.869072</td>\n",
       "      <td>27.668488</td>\n",
       "      <td>3.419310</td>\n",
       "    </tr>\n",
       "    <tr>\n",
       "      <th>40588</th>\n",
       "      <td>22.877300</td>\n",
       "      <td>1.137578</td>\n",
       "      <td>-19.424323</td>\n",
       "    </tr>\n",
       "    <tr>\n",
       "      <th>44483</th>\n",
       "      <td>11.605455</td>\n",
       "      <td>-8.727371</td>\n",
       "      <td>-27.814784</td>\n",
       "    </tr>\n",
       "    <tr>\n",
       "      <th>35926</th>\n",
       "      <td>39.672172</td>\n",
       "      <td>15.947127</td>\n",
       "      <td>-6.719578</td>\n",
       "    </tr>\n",
       "    <tr>\n",
       "      <th>32851</th>\n",
       "      <td>53.431020</td>\n",
       "      <td>28.169147</td>\n",
       "      <td>3.853905</td>\n",
       "    </tr>\n",
       "    <tr>\n",
       "      <th>48284</th>\n",
       "      <td>2.399018</td>\n",
       "      <td>-16.735805</td>\n",
       "      <td>-34.578989</td>\n",
       "    </tr>\n",
       "  </tbody>\n",
       "</table>\n",
       "</div>"
      ],
      "text/plain": [
       "         Organic  Semi-detached   Embedded\n",
       "LOC                                       \n",
       "36010  39.330090      15.644245  -6.980629\n",
       "48813   1.234122     -17.745785 -35.428847\n",
       "49231   0.331800     -18.527579 -36.086183\n",
       "33992  48.027922      23.360464  -0.315168\n",
       "32966  52.869072      27.668488   3.419310\n",
       "40588  22.877300       1.137578 -19.424323\n",
       "44483  11.605455      -8.727371 -27.814784\n",
       "35926  39.672172      15.947127  -6.719578\n",
       "32851  53.431020      28.169147   3.853905\n",
       "48284   2.399018     -16.735805 -34.578989"
      ]
     },
     "execution_count": 24,
     "metadata": {},
     "output_type": "execute_result"
    }
   ],
   "source": [
    "Error_per3 = pd.DataFrame({'Organic': Effort_organic3, 'Semi-detached': Effort_semidetached3, 'Embedded': Effort_embedded3})\n",
    "Error_per3['LOC'] = (LOC)\n",
    "Error_per3.set_index('LOC', inplace=True)\n",
    "Error_per3"
   ]
  }
 ],
 "metadata": {
  "kernelspec": {
   "display_name": "Python 3",
   "language": "python",
   "name": "python3"
  },
  "language_info": {
   "codemirror_mode": {
    "name": "ipython",
    "version": 3
   },
   "file_extension": ".py",
   "mimetype": "text/x-python",
   "name": "python",
   "nbconvert_exporter": "python",
   "pygments_lexer": "ipython3",
   "version": "3.6.5"
  }
 },
 "nbformat": 4,
 "nbformat_minor": 2
}
